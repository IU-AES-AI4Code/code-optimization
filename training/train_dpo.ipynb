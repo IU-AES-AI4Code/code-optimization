{
 "cells": [
  {
   "cell_type": "markdown",
   "id": "2d3b09e3-a740-4a55-8876-bd498e6734d2",
   "metadata": {},
   "source": [
    "# Main Training Pipeline"
   ]
  },
  {
   "cell_type": "code",
   "execution_count": 1,
   "id": "24f2550c-8ce9-4143-80c3-525811b6edcb",
   "metadata": {
    "scrolled": true
   },
   "outputs": [
    {
     "name": "stderr",
     "output_type": "stream",
     "text": [
      "Special tokens have been added in the vocabulary, make sure the associated word embeddings are fine-tuned or trained.\n"
     ]
    },
    {
     "data": {
      "application/vnd.jupyter.widget-view+json": {
       "model_id": "e4286bed38604053b5997a2d22429d1c",
       "version_major": 2,
       "version_minor": 0
      },
      "text/plain": [
       "Loading checkpoint shards:   0%|          | 0/2 [00:00<?, ?it/s]"
      ]
     },
     "metadata": {},
     "output_type": "display_data"
    }
   ],
   "source": [
    "from transformers import AutoModelForCausalLM, AutoTokenizer\n",
    "import torch\n",
    "import os\n",
    "\n",
    "# Setting CUDA visible devices to restrict model training to specific GPUs\n",
    "os.environ['CUDA_VISIBLE_DEVICES'] = \"1,2,3\"\n",
    "\n",
    "# Loading the tokenizer for the model from the specified pretrained model\n",
    "tokenizer = AutoTokenizer.from_pretrained(\"deepseek-ai/deepseek-coder-7b-instruct\", device_map='auto')\n",
    "\n",
    "# Loading the pretrained model for causal language modeling\n",
    "model = AutoModelForCausalLM.from_pretrained(\n",
    "    \"deepseek-ai/deepseek-coder-7b-instruct\",  # Model identifier or directory path\n",
    "    device_map='auto'  # Map tensors to specified devices (GPU or CPU)\n",
    ")\n"
   ]
  },
  {
   "cell_type": "code",
   "execution_count": 2,
   "id": "93a40a44-7c86-4908-9aa4-142850d6b663",
   "metadata": {},
   "outputs": [],
   "source": [
    "import torch  # Importing PyTorch library\n",
    "\n",
    "# Function to generate text based on input texts using a model\n",
    "def generate(input_texts, model):\n",
    "    # Encode input texts using the tokenizer and move tensors to GPU ('cuda')\n",
    "    encoded_input = tokenizer.batch_encode_plus(\n",
    "        input_texts,\n",
    "        padding=True,\n",
    "        truncation=True,\n",
    "        return_tensors=\"pt\"\n",
    "    ).to('cuda')\n",
    "\n",
    "    # Generate text based on the encoded input using the model\n",
    "    output = model.generate(\n",
    "        **encoded_input,  # Unpack encoded input as keyword arguments\n",
    "        max_new_tokens=4096,  # Maximum number of tokens to generate\n",
    "        pad_token_id=tokenizer.eos_token_id,  # ID of the padding token\n",
    "        do_sample=True,  # Whether to sample from the distribution instead of using argmax\n",
    "        top_k=50,  # Number of top tokens to sample from\n",
    "        top_p=0.95,  # Cumulative probability for top-k sampling\n",
    "        use_cache=True  # Whether to use cached values in generation\n",
    "    )\n",
    "    \n",
    "    # Decode the generated output into text and remove special tokens\n",
    "    generated_texts = [\n",
    "        tokenizer.decode(\n",
    "            output[i][len(encoded_input['input_ids'][i]):],  # Exclude input text from generated output\n",
    "            skip_special_tokens=True  # Skip special tokens (like <eos>)\n",
    "        ).strip()  # Remove leading/trailing whitespace\n",
    "        for i in range(len(input_texts))  # Iterate over each input text\n",
    "    ]\n",
    "    \n",
    "    return generated_texts  # Return the generated texts\n"
   ]
  },
  {
   "cell_type": "code",
   "execution_count": 3,
   "id": "f926be27-295b-4c37-905c-ca32cf488ae2",
   "metadata": {},
   "outputs": [],
   "source": [
    "import numpy as np\n",
    "import os\n",
    "\n",
    "# Function to sample implementations from files in a directory\n",
    "def sample_implementations(n_implemenations=50, dir='generated_code'):\n",
    "    # Get a list of all filenames in the specified directory (excluding .ipynb_checkpoints)\n",
    "    all_filenames = [filename for filename in os.listdir(dir) if filename != '.ipynb_checkpoints']\n",
    "    # Randomly select n_implemenations filenames from the list\n",
    "    filenames = np.random.choice(all_filenames, size=n_implemenations)\n",
    "    samples = []\n",
    "    # Read the content of each selected file and append it to the samples list\n",
    "    for filename in filenames:\n",
    "        with open(f'{dir}/{filename}') as f:\n",
    "            samples.append(f.read())\n",
    "    return samples\n"
   ]
  },
  {
   "cell_type": "code",
   "execution_count": 4,
   "id": "06e2741b-681b-4c52-8753-743ac0fb474b",
   "metadata": {},
   "outputs": [],
   "source": [
    "# samples = sample_implementations()"
   ]
  },
  {
   "cell_type": "code",
   "execution_count": 5,
   "id": "fc765e2e-0c7b-491a-be7e-4ac419882aee",
   "metadata": {},
   "outputs": [],
   "source": [
    "from tqdm import tqdm\n",
    "\n",
    "# Load the description of Maintainability Index from file\n",
    "with open('mi_desc.txt') as f:\n",
    "    mi_desc = f.read()\n",
    "\n",
    "# Function to compose a prompt for rewriting code\n",
    "def compose_prompt_to_rewrite(code):\n",
    "    # Construct the instruction using the description of Maintainability Index and the provided code\n",
    "    instruction = f\"Here is a description of Maintainability Index:\\n\\n{mi_desc}\\n\\n\\\n",
    "    Here is a Python code whose maintainability index you need to improve:\\n\\n{code}\\n\\n\\\n",
    "    Please, rewrite the Python code given above so that its maintainability index is increased.\"\n",
    "\n",
    "    # Apply a chat template to the instruction using tokenizer\n",
    "    prompt = tokenizer.apply_chat_template(\n",
    "        [{ 'role': 'user', 'content': instruction}],\n",
    "        add_generation_prompt=True,\n",
    "        tokenize=False\n",
    "    )\n",
    "\n",
    "    return prompt\n",
    "\n",
    "# Function to rewrite a batch of code\n",
    "def rewrite_code_batch(code_batch, model, batch_size=5):\n",
    "    # Compose prompts for each code in the batch\n",
    "    prompts = [compose_prompt_to_rewrite(code) for code in code_batch]\n",
    "    output = []\n",
    "    # Generate responses for the prompts in batches\n",
    "    for i in tqdm(range(len(prompts)//batch_size)):\n",
    "        output += generate(prompts[i*batch_size:(i+1)*batch_size], model) \n",
    "    return output\n",
    "\n",
    "# Function to rewrite a batch of code and extract the rewritten code\n",
    "def rewrite_and_extract_code_batch(code_batch, model, batch_size=5):\n",
    "    # Rewrite the code batch using the model\n",
    "    rewritten_code_raw = rewrite_code_batch(code_batch, model, batch_size)\n",
    "    rewritten_code = []\n",
    "    skipped_samples_idx = [] \n",
    "    # Extract the rewritten code from the generated responses\n",
    "    for i, text in enumerate(rewritten_code_raw):\n",
    "        extracted_code = extract_code(text)\n",
    "        # Check if code extraction failed\n",
    "        if len(extracted_code) == 0:\n",
    "            print(f'Failed to extract code from the answer {i}')\n",
    "            skipped_samples_idx.append(i)\n",
    "            rewritten_code.append(\"\")\n",
    "        else:\n",
    "            rewritten_code.append(extracted_code[0])\n",
    "    return rewritten_code, rewritten_code_raw, skipped_samples_idx\n"
   ]
  },
  {
   "cell_type": "code",
   "execution_count": 6,
   "id": "60ac7ae2-6284-41f9-a04e-afa2086f5611",
   "metadata": {},
   "outputs": [],
   "source": [
    "import re\n",
    "\n",
    "def extract_code(code):\n",
    "    # Define a regular expression pattern to match Python code blocks within triple backticks\n",
    "    pattern = r'```python\\n(.*?)\\n```'\n",
    "    # Use re.findall() to find all matches of the pattern in the input code string\n",
    "    matches = re.findall(pattern, code, re.DOTALL)\n",
    "    # Return the matched code blocks as a list\n",
    "    return matches"
   ]
  },
  {
   "cell_type": "code",
   "execution_count": 7,
   "id": "3877c5e0-dc49-4efd-97b0-697b658b2838",
   "metadata": {},
   "outputs": [],
   "source": [
    "import requests\n",
    "import json\n",
    "import os\n",
    "\n",
    "\n",
    "def compute_mi(code):\n",
    "    # Constructing a dictionary containing the code\n",
    "    data = {\"code\": code}\n",
    "    # Converting the dictionary to JSON format\n",
    "    json_data = json.dumps(data)\n",
    "    \n",
    "    # Making a POST request to compute the maintainability index (MI)\n",
    "    new_response = requests.post(\n",
    "        # URL for the endpoint to compute MI (uncomment the appropriate line based on environment)\n",
    "        \"http://localhost:8002/compute_mi\",  # URL for local endpoint\n",
    "        data=json_data,  # Sending the JSON data in the request body\n",
    "        headers={'Content-Type': 'application/json'}  # Setting the request headers\n",
    "    )\n",
    "    \n",
    "    # Parsing the JSON response and returning it as a Python dictionary\n",
    "    return new_response.json()\n"
   ]
  },
  {
   "cell_type": "code",
   "execution_count": 8,
   "id": "925fc000-1204-434c-b50a-2baea3de1de4",
   "metadata": {},
   "outputs": [
    {
     "name": "stdout",
     "output_type": "stream",
     "text": [
      "Setting ds_accelerator to cuda (auto detect)\n"
     ]
    }
   ],
   "source": [
    "from trl import DPOTrainer\n",
    "from transformers import TrainingArguments\n",
    "from datasets import Dataset\n",
    "from peft import (\n",
    "    LoraConfig,\n",
    "    get_peft_model,\n",
    "    get_peft_model_state_dict,\n",
    "    prepare_model_for_kbit_training,\n",
    "    set_peft_model_state_dict,\n",
    "    PeftModel\n",
    ")\n",
    "\n",
    "def compose_train_dataset(prompts, best_variants, worst_variants, original_variants):\n",
    "    # Identify indices of samples where the best variant is not better than the original\n",
    "    idx_to_skip = [\n",
    "        idx for idx in range(len(prompts))\n",
    "        if original_variants[idx]['mi'] > best_variants[idx]['mi']\n",
    "    ]\n",
    "    # Print a message if any samples are excluded from the training dataset\n",
    "    if len(idx_to_skip) != 0:\n",
    "        print(f'Samples {idx_to_skip} are excluded from training dataset because their best variants are not actually better than original ones.')\n",
    "    # Create a Dataset object containing prompts, chosen (best variants), and rejected (worst variants)\n",
    "    return Dataset.from_dict({\n",
    "        'prompt': [prompts[idx] for idx in range(len(prompts)) if not idx in idx_to_skip],\n",
    "        'chosen': [best_variants[idx]['text_raw'] for idx in range(len(prompts)) if not idx in idx_to_skip],\n",
    "        'rejected': [worst_variants[idx]['text_raw'] for idx in range(len(prompts)) if not idx in idx_to_skip]\n",
    "    })\n",
    "\n",
    "def train(model, train_dataset, output_dir='./dpo_output_dir/'):\n",
    "    # Define configuration for the Lora model\n",
    "    peft_config = LoraConfig(\n",
    "        r=32,\n",
    "        lora_alpha=64,\n",
    "        lora_dropout=0.05,\n",
    "        target_modules=[  # Modules to apply PEFT on\n",
    "            \"q_proj\",\n",
    "            \"k_proj\",\n",
    "            \"v_proj\",\n",
    "            \"o_proj\",\n",
    "            \"gate_proj\",\n",
    "            \"up_proj\",\n",
    "            \"down_proj\",\n",
    "            \"lm_head\"\n",
    "         ], \n",
    "        bias=\"none\",\n",
    "        task_type=\"CAUSAL_LM\",\n",
    "    )\n",
    "\n",
    "    # Prepare the base model for knowledge distillation\n",
    "    base_model = prepare_model_for_kbit_training(model)\n",
    "    # Create a PEFT model based on the base model and PEFT configuration\n",
    "    peft_model = get_peft_model(base_model, peft_config)\n",
    "    \n",
    "    # Define training arguments for the model\n",
    "    training_args = TrainingArguments(\n",
    "        per_device_train_batch_size=1,\n",
    "        gradient_accumulation_steps=1,\n",
    "        warmup_steps=25,\n",
    "        num_train_epochs=1,\n",
    "        do_eval=False,\n",
    "        learning_rate=3e-4,\n",
    "        fp16=True,\n",
    "        logging_steps=50,\n",
    "        optim=\"adamw_torch\",\n",
    "        save_strategy=\"epoch\",\n",
    "        output_dir=output_dir,\n",
    "        load_best_model_at_end=False,\n",
    "        report_to=\"none\",\n",
    "        remove_unused_columns=False,\n",
    "    )\n",
    "\n",
    "    # Create a DPOTrainer object for training\n",
    "    dpo_trainer = DPOTrainer(\n",
    "         model,\n",
    "         ref_model= None,\n",
    "         args=training_args,\n",
    "         peft_config=peft_config,\n",
    "         beta=0.1,\n",
    "         train_dataset=train_dataset,\n",
    "         tokenizer=tokenizer,  # Assuming `tokenizer` is defined elsewhere\n",
    "         max_prompt_length=4096,\n",
    "         max_length=2*4096,\n",
    "    )\n",
    "\n",
    "    # Train the model using DPOTrainer\n",
    "    dpo_trainer.train()\n",
    "\n",
    "    # Merge the trained model and unload the PEFT part\n",
    "    return dpo_trainer.model.merge_and_unload()\n"
   ]
  },
  {
   "cell_type": "code",
   "execution_count": 9,
   "id": "86b0252b-b7c0-4a65-9183-729b9bcf5f7b",
   "metadata": {},
   "outputs": [],
   "source": [
    "import matplotlib.pyplot as plt\n",
    "from tqdm import tqdm\n",
    "import torch\n",
    "from pathlib import Path\n",
    "from pprint import pprint\n",
    "\n",
    "def dpo_iteration(\n",
    "    iteration_name,\n",
    "    model,\n",
    "    n_samples=10,\n",
    "    batch_size=2,\n",
    "    n_tries_to_rewrite=2,\n",
    "    original_code_dir='generated_code',\n",
    "    mi_hist_dir='dpo_mi/hist',\n",
    "    struct_dir='dpo_mi/struct',\n",
    "):\n",
    "\n",
    "    # Printing iteration name\n",
    "    print(f'=== Iteration {iteration_name} ===')\n",
    "\n",
    "    # Define a structure to store all the necessary data\n",
    "    struct = [\n",
    "        {\n",
    "            'code_variants': [\n",
    "                {\n",
    "                    'text': None,\n",
    "                    'text_raw': None,\n",
    "                    'is_original': False,\n",
    "                    'mi': None\n",
    "                }\n",
    "                for i in range(n_tries_to_rewrite + 1)\n",
    "            ],\n",
    "            'original_variant': None,\n",
    "            'best_variant': None,\n",
    "            'worst_variant': None,\n",
    "            # 'skip': False\n",
    "        }\n",
    "        for i in range(n_samples)\n",
    "    ]\n",
    "    \n",
    "    # 1. Sample several implementations from the dataset\n",
    "    # Printing progress message\n",
    "    print('--> Sampling code')\n",
    "    # Sampling original code from the dataset\n",
    "    original_code = sample_implementations(\n",
    "        n_implemenations=n_samples, dir=original_code_dir\n",
    "    )\n",
    "\n",
    "    # Store original code in the structure\n",
    "    for i, code in enumerate(original_code):\n",
    "        struct[i]['code_variants'][0]['text'] = code\n",
    "        struct[i]['code_variants'][0]['is_original'] = True\n",
    "        struct[i]['original_variant'] = struct[i]['code_variants'][0]\n",
    "    \n",
    "    # 2. Ask the model to rewrite the implementations to have higher MI\n",
    "    # Printing progress message\n",
    "    print('--> Asking to improve MI')\n",
    "    for attempt_idx in range(n_tries_to_rewrite):\n",
    "        # Printing attempt number\n",
    "        print(f'Attempt {attempt_idx}')\n",
    "        # Rewrite the original code using the model\n",
    "        rewritten_code, rewritten_code_raw, skipped_samples_idx = rewrite_and_extract_code_batch(\n",
    "            original_code, model,batch_size\n",
    "        )\n",
    "        # Store rewritten code in the structure\n",
    "        for i in range(len(rewritten_code)):\n",
    "            struct[i]['code_variants'][1+attempt_idx]['text'] = rewritten_code[i]\n",
    "            struct[i]['code_variants'][1+attempt_idx]['text_raw'] = rewritten_code_raw[i]\n",
    "\n",
    "    # 3. Calculate MIs for the implementations with higher MI\n",
    "    # Printing progress message\n",
    "    print('--> Calculating MI for code variants')\n",
    "    for i in range(len(struct)):\n",
    "        # Calculate maintainability index (MI) for each code variant\n",
    "        mi_json = compute_mi([variant['text'] for variant in struct[i]['code_variants']])\n",
    "        mi_values = [item['maintainability_index'] for item in mi_json]\n",
    "        # Store MI values in the structure\n",
    "        for j in range(len(struct[i]['code_variants'])):\n",
    "            struct[i]['code_variants'][j]['mi'] = mi_values[j]\n",
    "\n",
    "    # 4. Select best and worst variants in terms of MI\n",
    "    # Printing progress message\n",
    "    print('--> Choosing best and worst variants')\n",
    "    for i in range(len(struct)):\n",
    "        # Find the index of the variant with the highest MI\n",
    "        # It does not consider original variant\n",
    "        best_variant_idx = np.argmax([\n",
    "            variant['mi'] if variant['mi'] != None\n",
    "            else -np.inf\n",
    "            for variant in struct[i]['code_variants'][1:]  \n",
    "        ])\n",
    "        # Set best variant\n",
    "        struct[i]['best_variant'] = struct[i]['code_variants'][1 + best_variant_idx]\n",
    "        \n",
    "        # Find the index of the variant with the lowest MI\n",
    "        # It does not consider original variant\n",
    "        worst_variant_idx = np.argmin([\n",
    "            variant['mi'] if variant['mi'] != None\n",
    "            else np.inf\n",
    "            for variant in struct[i]['code_variants'][1:]  \n",
    "        ])\n",
    "        # Set worst variant\n",
    "        struct[i]['worst_variant'] = struct[i]['code_variants'][1 + worst_variant_idx]\n",
    "\n",
    "    # Save the histogram to a file\n",
    "    # Creating a new figure\n",
    "    plt.figure()\n",
    "    # Plotting histogram of MI values\n",
    "    plt.hist([item['worst_variant']['mi'] for item in struct], edgecolor='black')\n",
    "    # Setting labels and titles\n",
    "    plt.title('Distribution of Maintainability Index')  \n",
    "    plt.xlabel('Maintainability Index')\n",
    "    plt.ylabel('Frequency')\n",
    "    plt.savefig(f'{mi_hist_dir}/{iteration_name}.png')\n",
    "    # Displaying the plot\n",
    "    plt.show()\n",
    "\n",
    "    # 5. Train the model on the pairs.\n",
    "    # Printing progress message\n",
    "    print('--> Training model')\n",
    "    prompts = [\n",
    "        compose_prompt_to_rewrite(code)\n",
    "        for i, code in enumerate(original_code)\n",
    "        if not i in skipped_samples_idx \n",
    "    ]\n",
    "\n",
    "    # Prepare necessary data for training\n",
    "    best_variants = [item['best_variant'] for item in struct]\n",
    "    worst_variants = [item['worst_variant'] for item in struct]\n",
    "    original_variants = [item['original_variant'] for item in struct]\n",
    "    # Compose a training dataset with prompts, code with high MI, and code with low MI\n",
    "    train_dataset = compose_train_dataset(prompts, best_variants, worst_variants, original_variants)\n",
    "    # Train for one epoch\n",
    "    model = train(model, train_dataset)\n",
    "    \n",
    "    # 6. Finish Iteration\n",
    "    # Printing progress message\n",
    "    print('--> Iteration finished\\n')\n",
    "    # Saving structure to a JSON file\n",
    "    with open(f'{struct_dir}/{iteration_name}.json', 'w') as f:\n",
    "        json.dump(struct, f)\n",
    "    return model\n"
   ]
  },
  {
   "cell_type": "code",
   "execution_count": 10,
   "id": "30fa0ce4-2d10-4132-a322-366f8074fdb8",
   "metadata": {},
   "outputs": [
    {
     "name": "stdout",
     "output_type": "stream",
     "text": [
      "=== Iteration 0 ===\n",
      "--> Sampling code\n",
      "--> Asking to improve MI\n",
      "Attempt 0\n"
     ]
    },
    {
     "name": "stderr",
     "output_type": "stream",
     "text": [
      "100%|██████████| 5/5 [05:17<00:00, 63.58s/it]\n"
     ]
    },
    {
     "name": "stdout",
     "output_type": "stream",
     "text": [
      "Failed to extract code from the answer 2\n",
      "Failed to extract code from the answer 16\n",
      "Failed to extract code from the answer 20\n",
      "Failed to extract code from the answer 22\n",
      "Failed to extract code from the answer 24\n",
      "Failed to extract code from the answer 27\n",
      "Failed to extract code from the answer 36\n",
      "Failed to extract code from the answer 44\n",
      "Attempt 1\n"
     ]
    },
    {
     "name": "stderr",
     "output_type": "stream",
     "text": [
      "100%|██████████| 5/5 [04:38<00:00, 55.71s/it]\n"
     ]
    },
    {
     "name": "stdout",
     "output_type": "stream",
     "text": [
      "Failed to extract code from the answer 2\n",
      "Failed to extract code from the answer 3\n",
      "Failed to extract code from the answer 5\n",
      "Failed to extract code from the answer 13\n",
      "Failed to extract code from the answer 18\n",
      "Failed to extract code from the answer 19\n",
      "Failed to extract code from the answer 24\n",
      "Failed to extract code from the answer 28\n",
      "Failed to extract code from the answer 46\n",
      "--> Calculating MI for code variants\n",
      "--> Choosing best and worst variants\n"
     ]
    },
    {
     "data": {
      "image/png": "[encoded data removed]",
      "text/plain": [
       "<Figure size 640x480 with 1 Axes>"
      ]
     },
     "metadata": {},
     "output_type": "display_data"
    },
    {
     "name": "stdout",
     "output_type": "stream",
     "text": [
      "--> Training model\n",
      "Samples [2, 3, 5, 12, 16, 18, 20, 21, 22, 24, 26, 28, 31, 34, 38, 39] are excluded from training dataset because         their best variants are not actually better than original ones.\n"
     ]
    },
    {
     "data": {
      "application/vnd.jupyter.widget-view+json": {
       "model_id": "2afb91edf0f6482f867a00ceacb6ecd8",
       "version_major": 2,
       "version_minor": 0
      },
      "text/plain": [
       "Map:   0%|          | 0/25 [00:00<?, ? examples/s]"
      ]
     },
     "metadata": {},
     "output_type": "display_data"
    },
    {
     "name": "stderr",
     "output_type": "stream",
     "text": [
      "Could not estimate the number of tokens of the input, floating-point operations will not be computed\n"
     ]
    },
    {
     "data": {
      "text/html": [
       "\n",
       "    <div>\n",
       "      \n",
       "      <progress value='25' max='25' style='width:300px; height:20px; vertical-align: middle;'></progress>\n",
       "      [25/25 00:33, Epoch 1/1]\n",
       "    </div>\n",
       "    <table border=\"1\" class=\"dataframe\">\n",
       "  <thead>\n",
       " <tr style=\"text-align: left;\">\n",
       "      <th>Step</th>\n",
       "      <th>Training Loss</th>\n",
       "    </tr>\n",
       "  </thead>\n",
       "  <tbody>\n",
       "  </tbody>\n",
       "</table><p>"
      ],
      "text/plain": [
       "<IPython.core.display.HTML object>"
      ]
     },
     "metadata": {},
     "output_type": "display_data"
    },
    {
     "name": "stdout",
     "output_type": "stream",
     "text": [
      "--> Iteration finished\n",
      "\n",
      "=== Iteration 1 ===\n",
      "--> Sampling code\n",
      "--> Asking to improve MI\n",
      "Attempt 0\n"
     ]
    },
    {
     "name": "stderr",
     "output_type": "stream",
     "text": [
      "100%|██████████| 5/5 [06:02<00:00, 72.58s/it]\n"
     ]
    },
    {
     "name": "stdout",
     "output_type": "stream",
     "text": [
      "Failed to extract code from the answer 11\n",
      "Attempt 1\n"
     ]
    },
    {
     "name": "stderr",
     "output_type": "stream",
     "text": [
      "100%|██████████| 5/5 [05:34<00:00, 66.91s/it]\n"
     ]
    },
    {
     "name": "stdout",
     "output_type": "stream",
     "text": [
      "--> Calculating MI for code variants\n",
      "--> Choosing best and worst variants\n"
     ]
    },
    {
     "data": {
      "image/png": "[encoded data removed]",
      "text/plain": [
       "<Figure size 640x480 with 1 Axes>"
      ]
     },
     "metadata": {},
     "output_type": "display_data"
    },
    {
     "name": "stdout",
     "output_type": "stream",
     "text": [
      "--> Training model\n",
      "Samples [19, 20, 22, 26, 33] are excluded from training dataset because         their best variants are not actually better than original ones.\n"
     ]
    },
    {
     "data": {
      "application/vnd.jupyter.widget-view+json": {
       "model_id": "9642a6a7adce41258388be3c700146b0",
       "version_major": 2,
       "version_minor": 0
      },
      "text/plain": [
       "Map:   0%|          | 0/45 [00:00<?, ? examples/s]"
      ]
     },
     "metadata": {},
     "output_type": "display_data"
    },
    {
     "data": {
      "text/html": [
       "\n",
       "    <div>\n",
       "      \n",
       "      <progress value='45' max='45' style='width:300px; height:20px; vertical-align: middle;'></progress>\n",
       "      [45/45 01:02, Epoch 1/1]\n",
       "    </div>\n",
       "    <table border=\"1\" class=\"dataframe\">\n",
       "  <thead>\n",
       " <tr style=\"text-align: left;\">\n",
       "      <th>Step</th>\n",
       "      <th>Training Loss</th>\n",
       "    </tr>\n",
       "  </thead>\n",
       "  <tbody>\n",
       "  </tbody>\n",
       "</table><p>"
      ],
      "text/plain": [
       "<IPython.core.display.HTML object>"
      ]
     },
     "metadata": {},
     "output_type": "display_data"
    },
    {
     "name": "stdout",
     "output_type": "stream",
     "text": [
      "--> Iteration finished\n",
      "\n",
      "=== Iteration 2 ===\n",
      "--> Sampling code\n",
      "--> Asking to improve MI\n",
      "Attempt 0\n"
     ]
    },
    {
     "name": "stderr",
     "output_type": "stream",
     "text": [
      "100%|██████████| 5/5 [05:51<00:00, 70.33s/it]\n"
     ]
    },
    {
     "name": "stdout",
     "output_type": "stream",
     "text": [
      "Failed to extract code from the answer 13\n",
      "Failed to extract code from the answer 16\n",
      "Failed to extract code from the answer 21\n",
      "Failed to extract code from the answer 27\n",
      "Failed to extract code from the answer 28\n",
      "Failed to extract code from the answer 30\n",
      "Failed to extract code from the answer 37\n",
      "Failed to extract code from the answer 38\n",
      "Attempt 1\n"
     ]
    },
    {
     "name": "stderr",
     "output_type": "stream",
     "text": [
      "100%|██████████| 5/5 [05:32<00:00, 66.49s/it]\n"
     ]
    },
    {
     "name": "stdout",
     "output_type": "stream",
     "text": [
      "Failed to extract code from the answer 0\n",
      "Failed to extract code from the answer 1\n",
      "Failed to extract code from the answer 4\n",
      "Failed to extract code from the answer 6\n",
      "Failed to extract code from the answer 9\n",
      "Failed to extract code from the answer 12\n",
      "Failed to extract code from the answer 13\n",
      "Failed to extract code from the answer 14\n",
      "Failed to extract code from the answer 15\n",
      "Failed to extract code from the answer 20\n",
      "Failed to extract code from the answer 21\n",
      "Failed to extract code from the answer 31\n",
      "Failed to extract code from the answer 32\n",
      "Failed to extract code from the answer 35\n",
      "Failed to extract code from the answer 42\n",
      "Failed to extract code from the answer 49\n",
      "--> Calculating MI for code variants\n",
      "--> Choosing best and worst variants\n"
     ]
    },
    {
     "data": {
      "image/png": "[encoded data removed]",
      "text/plain": [
       "<Figure size 640x480 with 1 Axes>"
      ]
     },
     "metadata": {},
     "output_type": "display_data"
    },
    {
     "name": "stdout",
     "output_type": "stream",
     "text": [
      "--> Training model\n",
      "Samples [0, 13, 21, 22, 27] are excluded from training dataset because         their best variants are not actually better than original ones.\n"
     ]
    },
    {
     "data": {
      "application/vnd.jupyter.widget-view+json": {
       "model_id": "4330e73f7f664b77b2379956787e7bf2",
       "version_major": 2,
       "version_minor": 0
      },
      "text/plain": [
       "Map:   0%|          | 0/29 [00:00<?, ? examples/s]"
      ]
     },
     "metadata": {},
     "output_type": "display_data"
    },
    {
     "data": {
      "text/html": [
       "\n",
       "    <div>\n",
       "      \n",
       "      <progress value='29' max='29' style='width:300px; height:20px; vertical-align: middle;'></progress>\n",
       "      [29/29 00:40, Epoch 1/1]\n",
       "    </div>\n",
       "    <table border=\"1\" class=\"dataframe\">\n",
       "  <thead>\n",
       " <tr style=\"text-align: left;\">\n",
       "      <th>Step</th>\n",
       "      <th>Training Loss</th>\n",
       "    </tr>\n",
       "  </thead>\n",
       "  <tbody>\n",
       "  </tbody>\n",
       "</table><p>"
      ],
      "text/plain": [
       "<IPython.core.display.HTML object>"
      ]
     },
     "metadata": {},
     "output_type": "display_data"
    },
    {
     "name": "stdout",
     "output_type": "stream",
     "text": [
      "--> Iteration finished\n",
      "\n",
      "=== Iteration 3 ===\n",
      "--> Sampling code\n",
      "--> Asking to improve MI\n",
      "Attempt 0\n"
     ]
    },
    {
     "name": "stderr",
     "output_type": "stream",
     "text": [
      "100%|██████████| 5/5 [05:59<00:00, 72.00s/it]\n"
     ]
    },
    {
     "name": "stdout",
     "output_type": "stream",
     "text": [
      "Failed to extract code from the answer 24\n",
      "Attempt 1\n"
     ]
    },
    {
     "name": "stderr",
     "output_type": "stream",
     "text": [
      "100%|██████████| 5/5 [06:28<00:00, 77.76s/it]\n"
     ]
    },
    {
     "name": "stdout",
     "output_type": "stream",
     "text": [
      "Failed to extract code from the answer 7\n",
      "Failed to extract code from the answer 43\n",
      "Failed to extract code from the answer 46\n",
      "Failed to extract code from the answer 48\n",
      "--> Calculating MI for code variants\n",
      "--> Choosing best and worst variants\n"
     ]
    },
    {
     "data": {
      "image/png": "[encoded data removed]",
      "text/plain": [
       "<Figure size 640x480 with 1 Axes>"
      ]
     },
     "metadata": {},
     "output_type": "display_data"
    },
    {
     "name": "stdout",
     "output_type": "stream",
     "text": [
      "--> Training model\n",
      "Samples [2, 19, 22, 33, 39] are excluded from training dataset because         their best variants are not actually better than original ones.\n"
     ]
    },
    {
     "data": {
      "application/vnd.jupyter.widget-view+json": {
       "model_id": "549103560cb74067b95a5e7e08d7f894",
       "version_major": 2,
       "version_minor": 0
      },
      "text/plain": [
       "Map:   0%|          | 0/41 [00:00<?, ? examples/s]"
      ]
     },
     "metadata": {},
     "output_type": "display_data"
    },
    {
     "data": {
      "text/html": [
       "\n",
       "    <div>\n",
       "      \n",
       "      <progress value='41' max='41' style='width:300px; height:20px; vertical-align: middle;'></progress>\n",
       "      [41/41 00:55, Epoch 1/1]\n",
       "    </div>\n",
       "    <table border=\"1\" class=\"dataframe\">\n",
       "  <thead>\n",
       " <tr style=\"text-align: left;\">\n",
       "      <th>Step</th>\n",
       "      <th>Training Loss</th>\n",
       "    </tr>\n",
       "  </thead>\n",
       "  <tbody>\n",
       "  </tbody>\n",
       "</table><p>"
      ],
      "text/plain": [
       "<IPython.core.display.HTML object>"
      ]
     },
     "metadata": {},
     "output_type": "display_data"
    },
    {
     "name": "stdout",
     "output_type": "stream",
     "text": [
      "--> Iteration finished\n",
      "\n",
      "=== Iteration 4 ===\n",
      "--> Sampling code\n",
      "--> Asking to improve MI\n",
      "Attempt 0\n"
     ]
    },
    {
     "name": "stderr",
     "output_type": "stream",
     "text": [
      " 20%|██        | 1/5 [01:11<04:46, 71.50s/it]\n"
     ]
    },
    {
     "ename": "RuntimeError",
     "evalue": "CUDA error: unspecified launch failure\nCUDA kernel errors might be asynchronously reported at some other API call, so the stacktrace below might be incorrect.\nFor debugging consider passing CUDA_LAUNCH_BLOCKING=1.\nCompile with `TORCH_USE_CUDA_DSA` to enable device-side assertions.\n",
     "output_type": "error",
     "traceback": [
      "\u001b[0;31m---------------------------------------------------------------------------\u001b[0m",
      "\u001b[0;31mRuntimeError\u001b[0m                              Traceback (most recent call last)",
      "Cell \u001b[0;32mIn[10], line 2\u001b[0m\n\u001b[1;32m      1\u001b[0m \u001b[38;5;28;01mfor\u001b[39;00m i \u001b[38;5;129;01min\u001b[39;00m \u001b[38;5;28mrange\u001b[39m(\u001b[38;5;241m5\u001b[39m):\n\u001b[0;32m----> 2\u001b[0m     model \u001b[38;5;241m=\u001b[39m dpo_iteration(i, model, n_samples\u001b[38;5;241m=\u001b[39m\u001b[38;5;241m50\u001b[39m, batch_size\u001b[38;5;241m=\u001b[39m\u001b[38;5;241m10\u001b[39m, n_tries_to_rewrite\u001b[38;5;241m=\u001b[39m\u001b[38;5;241m2\u001b[39m)\n",
      "Cell \u001b[0;32mIn[9], line 62\u001b[0m, in \u001b[0;36mdpo_iteration\u001b[0;34m(iteration_name, model, n_samples, batch_size, n_tries_to_rewrite, original_code_dir, mi_hist_dir, struct_dir)\u001b[0m\n\u001b[1;32m     60\u001b[0m \u001b[38;5;28mprint\u001b[39m(\u001b[38;5;124mf\u001b[39m\u001b[38;5;124m'\u001b[39m\u001b[38;5;124mAttempt \u001b[39m\u001b[38;5;132;01m{\u001b[39;00mattempt_idx\u001b[38;5;132;01m}\u001b[39;00m\u001b[38;5;124m'\u001b[39m)\n\u001b[1;32m     61\u001b[0m \u001b[38;5;66;03m# Rewrite the original code using the model\u001b[39;00m\n\u001b[0;32m---> 62\u001b[0m rewritten_code, rewritten_code_raw, skipped_samples_idx \u001b[38;5;241m=\u001b[39m rewrite_and_extract_code_batch(\n\u001b[1;32m     63\u001b[0m     original_code, model,batch_size\n\u001b[1;32m     64\u001b[0m )\n\u001b[1;32m     65\u001b[0m \u001b[38;5;66;03m# Store rewritten code in the structure\u001b[39;00m\n\u001b[1;32m     66\u001b[0m \u001b[38;5;28;01mfor\u001b[39;00m i \u001b[38;5;129;01min\u001b[39;00m \u001b[38;5;28mrange\u001b[39m(\u001b[38;5;28mlen\u001b[39m(rewritten_code)):\n",
      "Cell \u001b[0;32mIn[5], line 36\u001b[0m, in \u001b[0;36mrewrite_and_extract_code_batch\u001b[0;34m(code_batch, model, batch_size)\u001b[0m\n\u001b[1;32m     34\u001b[0m \u001b[38;5;28;01mdef\u001b[39;00m \u001b[38;5;21mrewrite_and_extract_code_batch\u001b[39m(code_batch, model, batch_size\u001b[38;5;241m=\u001b[39m\u001b[38;5;241m5\u001b[39m):\n\u001b[1;32m     35\u001b[0m     \u001b[38;5;66;03m# Rewrite the code batch using the model\u001b[39;00m\n\u001b[0;32m---> 36\u001b[0m     rewritten_code_raw \u001b[38;5;241m=\u001b[39m rewrite_code_batch(code_batch, model, batch_size)\n\u001b[1;32m     37\u001b[0m     rewritten_code \u001b[38;5;241m=\u001b[39m []\n\u001b[1;32m     38\u001b[0m     skipped_samples_idx \u001b[38;5;241m=\u001b[39m [] \n",
      "Cell \u001b[0;32mIn[5], line 30\u001b[0m, in \u001b[0;36mrewrite_code_batch\u001b[0;34m(code_batch, model, batch_size)\u001b[0m\n\u001b[1;32m     28\u001b[0m \u001b[38;5;66;03m# Generate responses for the prompts in batches\u001b[39;00m\n\u001b[1;32m     29\u001b[0m \u001b[38;5;28;01mfor\u001b[39;00m i \u001b[38;5;129;01min\u001b[39;00m tqdm(\u001b[38;5;28mrange\u001b[39m(\u001b[38;5;28mlen\u001b[39m(prompts)\u001b[38;5;241m/\u001b[39m\u001b[38;5;241m/\u001b[39mbatch_size)):\n\u001b[0;32m---> 30\u001b[0m     output \u001b[38;5;241m+\u001b[39m\u001b[38;5;241m=\u001b[39m generate(prompts[i\u001b[38;5;241m*\u001b[39mbatch_size:(i\u001b[38;5;241m+\u001b[39m\u001b[38;5;241m1\u001b[39m)\u001b[38;5;241m*\u001b[39mbatch_size], model) \n\u001b[1;32m     31\u001b[0m \u001b[38;5;28;01mreturn\u001b[39;00m output\n",
      "Cell \u001b[0;32mIn[2], line 14\u001b[0m, in \u001b[0;36mgenerate\u001b[0;34m(input_texts, model)\u001b[0m\n\u001b[1;32m      6\u001b[0m encoded_input \u001b[38;5;241m=\u001b[39m tokenizer\u001b[38;5;241m.\u001b[39mbatch_encode_plus(\n\u001b[1;32m      7\u001b[0m     input_texts,\n\u001b[1;32m      8\u001b[0m     padding\u001b[38;5;241m=\u001b[39m\u001b[38;5;28;01mTrue\u001b[39;00m,\n\u001b[1;32m      9\u001b[0m     truncation\u001b[38;5;241m=\u001b[39m\u001b[38;5;28;01mTrue\u001b[39;00m,\n\u001b[1;32m     10\u001b[0m     return_tensors\u001b[38;5;241m=\u001b[39m\u001b[38;5;124m\"\u001b[39m\u001b[38;5;124mpt\u001b[39m\u001b[38;5;124m\"\u001b[39m\n\u001b[1;32m     11\u001b[0m )\u001b[38;5;241m.\u001b[39mto(\u001b[38;5;124m'\u001b[39m\u001b[38;5;124mcuda\u001b[39m\u001b[38;5;124m'\u001b[39m)\n\u001b[1;32m     13\u001b[0m \u001b[38;5;66;03m# Generate text based on the encoded input using the model\u001b[39;00m\n\u001b[0;32m---> 14\u001b[0m output \u001b[38;5;241m=\u001b[39m model\u001b[38;5;241m.\u001b[39mgenerate(\n\u001b[1;32m     15\u001b[0m     \u001b[38;5;241m*\u001b[39m\u001b[38;5;241m*\u001b[39mencoded_input,  \u001b[38;5;66;03m# Unpack encoded input as keyword arguments\u001b[39;00m\n\u001b[1;32m     16\u001b[0m     max_new_tokens\u001b[38;5;241m=\u001b[39m\u001b[38;5;241m4096\u001b[39m,  \u001b[38;5;66;03m# Maximum number of tokens to generate\u001b[39;00m\n\u001b[1;32m     17\u001b[0m     pad_token_id\u001b[38;5;241m=\u001b[39mtokenizer\u001b[38;5;241m.\u001b[39meos_token_id,  \u001b[38;5;66;03m# ID of the padding token\u001b[39;00m\n\u001b[1;32m     18\u001b[0m     do_sample\u001b[38;5;241m=\u001b[39m\u001b[38;5;28;01mTrue\u001b[39;00m,  \u001b[38;5;66;03m# Whether to sample from the distribution instead of using argmax\u001b[39;00m\n\u001b[1;32m     19\u001b[0m     top_k\u001b[38;5;241m=\u001b[39m\u001b[38;5;241m50\u001b[39m,  \u001b[38;5;66;03m# Number of top tokens to sample from\u001b[39;00m\n\u001b[1;32m     20\u001b[0m     top_p\u001b[38;5;241m=\u001b[39m\u001b[38;5;241m0.95\u001b[39m,  \u001b[38;5;66;03m# Cumulative probability for top-k sampling\u001b[39;00m\n\u001b[1;32m     21\u001b[0m     use_cache\u001b[38;5;241m=\u001b[39m\u001b[38;5;28;01mTrue\u001b[39;00m  \u001b[38;5;66;03m# Whether to use cached values in generation\u001b[39;00m\n\u001b[1;32m     22\u001b[0m )\n\u001b[1;32m     24\u001b[0m \u001b[38;5;66;03m# Decode the generated output into text and remove special tokens\u001b[39;00m\n\u001b[1;32m     25\u001b[0m generated_texts \u001b[38;5;241m=\u001b[39m [\n\u001b[1;32m     26\u001b[0m     tokenizer\u001b[38;5;241m.\u001b[39mdecode(\n\u001b[1;32m     27\u001b[0m         output[i][\u001b[38;5;28mlen\u001b[39m(encoded_input[\u001b[38;5;124m'\u001b[39m\u001b[38;5;124minput_ids\u001b[39m\u001b[38;5;124m'\u001b[39m][i]):],  \u001b[38;5;66;03m# Exclude input text from generated output\u001b[39;00m\n\u001b[0;32m   (...)\u001b[0m\n\u001b[1;32m     30\u001b[0m     \u001b[38;5;28;01mfor\u001b[39;00m i \u001b[38;5;129;01min\u001b[39;00m \u001b[38;5;28mrange\u001b[39m(\u001b[38;5;28mlen\u001b[39m(input_texts))  \u001b[38;5;66;03m# Iterate over each input text\u001b[39;00m\n\u001b[1;32m     31\u001b[0m ]\n",
      "File \u001b[0;32m~/miniconda3/envs/ncs_georgy/lib/python3.11/site-packages/torch/utils/_contextlib.py:115\u001b[0m, in \u001b[0;36mcontext_decorator.<locals>.decorate_context\u001b[0;34m(*args, **kwargs)\u001b[0m\n\u001b[1;32m    112\u001b[0m \u001b[38;5;129m@functools\u001b[39m\u001b[38;5;241m.\u001b[39mwraps(func)\n\u001b[1;32m    113\u001b[0m \u001b[38;5;28;01mdef\u001b[39;00m \u001b[38;5;21mdecorate_context\u001b[39m(\u001b[38;5;241m*\u001b[39margs, \u001b[38;5;241m*\u001b[39m\u001b[38;5;241m*\u001b[39mkwargs):\n\u001b[1;32m    114\u001b[0m     \u001b[38;5;28;01mwith\u001b[39;00m ctx_factory():\n\u001b[0;32m--> 115\u001b[0m         \u001b[38;5;28;01mreturn\u001b[39;00m func(\u001b[38;5;241m*\u001b[39margs, \u001b[38;5;241m*\u001b[39m\u001b[38;5;241m*\u001b[39mkwargs)\n",
      "File \u001b[0;32m~/miniconda3/envs/ncs_georgy/lib/python3.11/site-packages/transformers/generation/utils.py:1622\u001b[0m, in \u001b[0;36mGenerationMixin.generate\u001b[0;34m(self, inputs, generation_config, logits_processor, stopping_criteria, prefix_allowed_tokens_fn, synced_gpus, assistant_model, streamer, negative_prompt_ids, negative_prompt_attention_mask, **kwargs)\u001b[0m\n\u001b[1;32m   1614\u001b[0m     input_ids, model_kwargs \u001b[38;5;241m=\u001b[39m \u001b[38;5;28mself\u001b[39m\u001b[38;5;241m.\u001b[39m_expand_inputs_for_generation(\n\u001b[1;32m   1615\u001b[0m         input_ids\u001b[38;5;241m=\u001b[39minput_ids,\n\u001b[1;32m   1616\u001b[0m         expand_size\u001b[38;5;241m=\u001b[39mgeneration_config\u001b[38;5;241m.\u001b[39mnum_return_sequences,\n\u001b[1;32m   1617\u001b[0m         is_encoder_decoder\u001b[38;5;241m=\u001b[39m\u001b[38;5;28mself\u001b[39m\u001b[38;5;241m.\u001b[39mconfig\u001b[38;5;241m.\u001b[39mis_encoder_decoder,\n\u001b[1;32m   1618\u001b[0m         \u001b[38;5;241m*\u001b[39m\u001b[38;5;241m*\u001b[39mmodel_kwargs,\n\u001b[1;32m   1619\u001b[0m     )\n\u001b[1;32m   1621\u001b[0m     \u001b[38;5;66;03m# 13. run sample\u001b[39;00m\n\u001b[0;32m-> 1622\u001b[0m     result \u001b[38;5;241m=\u001b[39m \u001b[38;5;28mself\u001b[39m\u001b[38;5;241m.\u001b[39m_sample(\n\u001b[1;32m   1623\u001b[0m         input_ids,\n\u001b[1;32m   1624\u001b[0m         logits_processor\u001b[38;5;241m=\u001b[39mprepared_logits_processor,\n\u001b[1;32m   1625\u001b[0m         logits_warper\u001b[38;5;241m=\u001b[39mlogits_warper,\n\u001b[1;32m   1626\u001b[0m         stopping_criteria\u001b[38;5;241m=\u001b[39mprepared_stopping_criteria,\n\u001b[1;32m   1627\u001b[0m         pad_token_id\u001b[38;5;241m=\u001b[39mgeneration_config\u001b[38;5;241m.\u001b[39mpad_token_id,\n\u001b[1;32m   1628\u001b[0m         output_scores\u001b[38;5;241m=\u001b[39mgeneration_config\u001b[38;5;241m.\u001b[39moutput_scores,\n\u001b[1;32m   1629\u001b[0m         output_logits\u001b[38;5;241m=\u001b[39mgeneration_config\u001b[38;5;241m.\u001b[39moutput_logits,\n\u001b[1;32m   1630\u001b[0m         return_dict_in_generate\u001b[38;5;241m=\u001b[39mgeneration_config\u001b[38;5;241m.\u001b[39mreturn_dict_in_generate,\n\u001b[1;32m   1631\u001b[0m         synced_gpus\u001b[38;5;241m=\u001b[39msynced_gpus,\n\u001b[1;32m   1632\u001b[0m         streamer\u001b[38;5;241m=\u001b[39mstreamer,\n\u001b[1;32m   1633\u001b[0m         \u001b[38;5;241m*\u001b[39m\u001b[38;5;241m*\u001b[39mmodel_kwargs,\n\u001b[1;32m   1634\u001b[0m     )\n\u001b[1;32m   1636\u001b[0m \u001b[38;5;28;01melif\u001b[39;00m generation_mode \u001b[38;5;241m==\u001b[39m GenerationMode\u001b[38;5;241m.\u001b[39mBEAM_SEARCH:\n\u001b[1;32m   1637\u001b[0m     \u001b[38;5;66;03m# 11. prepare beam search scorer\u001b[39;00m\n\u001b[1;32m   1638\u001b[0m     beam_scorer \u001b[38;5;241m=\u001b[39m BeamSearchScorer(\n\u001b[1;32m   1639\u001b[0m         batch_size\u001b[38;5;241m=\u001b[39mbatch_size,\n\u001b[1;32m   1640\u001b[0m         num_beams\u001b[38;5;241m=\u001b[39mgeneration_config\u001b[38;5;241m.\u001b[39mnum_beams,\n\u001b[0;32m   (...)\u001b[0m\n\u001b[1;32m   1645\u001b[0m         max_length\u001b[38;5;241m=\u001b[39mgeneration_config\u001b[38;5;241m.\u001b[39mmax_length,\n\u001b[1;32m   1646\u001b[0m     )\n",
      "File \u001b[0;32m~/miniconda3/envs/ncs_georgy/lib/python3.11/site-packages/transformers/generation/utils.py:2791\u001b[0m, in \u001b[0;36mGenerationMixin._sample\u001b[0;34m(self, input_ids, logits_processor, stopping_criteria, logits_warper, max_length, pad_token_id, eos_token_id, output_attentions, output_hidden_states, output_scores, output_logits, return_dict_in_generate, synced_gpus, streamer, **model_kwargs)\u001b[0m\n\u001b[1;32m   2788\u001b[0m model_inputs \u001b[38;5;241m=\u001b[39m \u001b[38;5;28mself\u001b[39m\u001b[38;5;241m.\u001b[39mprepare_inputs_for_generation(input_ids, \u001b[38;5;241m*\u001b[39m\u001b[38;5;241m*\u001b[39mmodel_kwargs)\n\u001b[1;32m   2790\u001b[0m \u001b[38;5;66;03m# forward pass to get next token\u001b[39;00m\n\u001b[0;32m-> 2791\u001b[0m outputs \u001b[38;5;241m=\u001b[39m \u001b[38;5;28mself\u001b[39m(\n\u001b[1;32m   2792\u001b[0m     \u001b[38;5;241m*\u001b[39m\u001b[38;5;241m*\u001b[39mmodel_inputs,\n\u001b[1;32m   2793\u001b[0m     return_dict\u001b[38;5;241m=\u001b[39m\u001b[38;5;28;01mTrue\u001b[39;00m,\n\u001b[1;32m   2794\u001b[0m     output_attentions\u001b[38;5;241m=\u001b[39moutput_attentions,\n\u001b[1;32m   2795\u001b[0m     output_hidden_states\u001b[38;5;241m=\u001b[39moutput_hidden_states,\n\u001b[1;32m   2796\u001b[0m )\n\u001b[1;32m   2798\u001b[0m \u001b[38;5;28;01mif\u001b[39;00m synced_gpus \u001b[38;5;129;01mand\u001b[39;00m this_peer_finished:\n\u001b[1;32m   2799\u001b[0m     \u001b[38;5;28;01mcontinue\u001b[39;00m  \u001b[38;5;66;03m# don't waste resources running the code we don't need\u001b[39;00m\n",
      "File \u001b[0;32m~/miniconda3/envs/ncs_georgy/lib/python3.11/site-packages/torch/nn/modules/module.py:1511\u001b[0m, in \u001b[0;36mModule._wrapped_call_impl\u001b[0;34m(self, *args, **kwargs)\u001b[0m\n\u001b[1;32m   1509\u001b[0m     \u001b[38;5;28;01mreturn\u001b[39;00m \u001b[38;5;28mself\u001b[39m\u001b[38;5;241m.\u001b[39m_compiled_call_impl(\u001b[38;5;241m*\u001b[39margs, \u001b[38;5;241m*\u001b[39m\u001b[38;5;241m*\u001b[39mkwargs)  \u001b[38;5;66;03m# type: ignore[misc]\u001b[39;00m\n\u001b[1;32m   1510\u001b[0m \u001b[38;5;28;01melse\u001b[39;00m:\n\u001b[0;32m-> 1511\u001b[0m     \u001b[38;5;28;01mreturn\u001b[39;00m \u001b[38;5;28mself\u001b[39m\u001b[38;5;241m.\u001b[39m_call_impl(\u001b[38;5;241m*\u001b[39margs, \u001b[38;5;241m*\u001b[39m\u001b[38;5;241m*\u001b[39mkwargs)\n",
      "File \u001b[0;32m~/miniconda3/envs/ncs_georgy/lib/python3.11/site-packages/torch/nn/modules/module.py:1520\u001b[0m, in \u001b[0;36mModule._call_impl\u001b[0;34m(self, *args, **kwargs)\u001b[0m\n\u001b[1;32m   1515\u001b[0m \u001b[38;5;66;03m# If we don't have any hooks, we want to skip the rest of the logic in\u001b[39;00m\n\u001b[1;32m   1516\u001b[0m \u001b[38;5;66;03m# this function, and just call forward.\u001b[39;00m\n\u001b[1;32m   1517\u001b[0m \u001b[38;5;28;01mif\u001b[39;00m \u001b[38;5;129;01mnot\u001b[39;00m (\u001b[38;5;28mself\u001b[39m\u001b[38;5;241m.\u001b[39m_backward_hooks \u001b[38;5;129;01mor\u001b[39;00m \u001b[38;5;28mself\u001b[39m\u001b[38;5;241m.\u001b[39m_backward_pre_hooks \u001b[38;5;129;01mor\u001b[39;00m \u001b[38;5;28mself\u001b[39m\u001b[38;5;241m.\u001b[39m_forward_hooks \u001b[38;5;129;01mor\u001b[39;00m \u001b[38;5;28mself\u001b[39m\u001b[38;5;241m.\u001b[39m_forward_pre_hooks\n\u001b[1;32m   1518\u001b[0m         \u001b[38;5;129;01mor\u001b[39;00m _global_backward_pre_hooks \u001b[38;5;129;01mor\u001b[39;00m _global_backward_hooks\n\u001b[1;32m   1519\u001b[0m         \u001b[38;5;129;01mor\u001b[39;00m _global_forward_hooks \u001b[38;5;129;01mor\u001b[39;00m _global_forward_pre_hooks):\n\u001b[0;32m-> 1520\u001b[0m     \u001b[38;5;28;01mreturn\u001b[39;00m forward_call(\u001b[38;5;241m*\u001b[39margs, \u001b[38;5;241m*\u001b[39m\u001b[38;5;241m*\u001b[39mkwargs)\n\u001b[1;32m   1522\u001b[0m \u001b[38;5;28;01mtry\u001b[39;00m:\n\u001b[1;32m   1523\u001b[0m     result \u001b[38;5;241m=\u001b[39m \u001b[38;5;28;01mNone\u001b[39;00m\n",
      "File \u001b[0;32m~/miniconda3/envs/ncs_georgy/lib/python3.11/site-packages/accelerate/hooks.py:166\u001b[0m, in \u001b[0;36madd_hook_to_module.<locals>.new_forward\u001b[0;34m(module, *args, **kwargs)\u001b[0m\n\u001b[1;32m    164\u001b[0m         output \u001b[38;5;241m=\u001b[39m module\u001b[38;5;241m.\u001b[39m_old_forward(\u001b[38;5;241m*\u001b[39margs, \u001b[38;5;241m*\u001b[39m\u001b[38;5;241m*\u001b[39mkwargs)\n\u001b[1;32m    165\u001b[0m \u001b[38;5;28;01melse\u001b[39;00m:\n\u001b[0;32m--> 166\u001b[0m     output \u001b[38;5;241m=\u001b[39m module\u001b[38;5;241m.\u001b[39m_old_forward(\u001b[38;5;241m*\u001b[39margs, \u001b[38;5;241m*\u001b[39m\u001b[38;5;241m*\u001b[39mkwargs)\n\u001b[1;32m    167\u001b[0m \u001b[38;5;28;01mreturn\u001b[39;00m module\u001b[38;5;241m.\u001b[39m_hf_hook\u001b[38;5;241m.\u001b[39mpost_forward(module, output)\n",
      "File \u001b[0;32m~/miniconda3/envs/ncs_georgy/lib/python3.11/site-packages/transformers/models/llama/modeling_llama.py:1227\u001b[0m, in \u001b[0;36mLlamaForCausalLM.forward\u001b[0;34m(self, input_ids, attention_mask, position_ids, past_key_values, inputs_embeds, labels, use_cache, output_attentions, output_hidden_states, return_dict, cache_position)\u001b[0m\n\u001b[1;32m   1225\u001b[0m     logits \u001b[38;5;241m=\u001b[39m torch\u001b[38;5;241m.\u001b[39mcat(logits, dim\u001b[38;5;241m=\u001b[39m\u001b[38;5;241m-\u001b[39m\u001b[38;5;241m1\u001b[39m)\n\u001b[1;32m   1226\u001b[0m \u001b[38;5;28;01melse\u001b[39;00m:\n\u001b[0;32m-> 1227\u001b[0m     logits \u001b[38;5;241m=\u001b[39m \u001b[38;5;28mself\u001b[39m\u001b[38;5;241m.\u001b[39mlm_head(hidden_states)\n\u001b[1;32m   1228\u001b[0m logits \u001b[38;5;241m=\u001b[39m logits\u001b[38;5;241m.\u001b[39mfloat()\n\u001b[1;32m   1230\u001b[0m loss \u001b[38;5;241m=\u001b[39m \u001b[38;5;28;01mNone\u001b[39;00m\n",
      "File \u001b[0;32m~/miniconda3/envs/ncs_georgy/lib/python3.11/site-packages/torch/nn/modules/module.py:1511\u001b[0m, in \u001b[0;36mModule._wrapped_call_impl\u001b[0;34m(self, *args, **kwargs)\u001b[0m\n\u001b[1;32m   1509\u001b[0m     \u001b[38;5;28;01mreturn\u001b[39;00m \u001b[38;5;28mself\u001b[39m\u001b[38;5;241m.\u001b[39m_compiled_call_impl(\u001b[38;5;241m*\u001b[39margs, \u001b[38;5;241m*\u001b[39m\u001b[38;5;241m*\u001b[39mkwargs)  \u001b[38;5;66;03m# type: ignore[misc]\u001b[39;00m\n\u001b[1;32m   1510\u001b[0m \u001b[38;5;28;01melse\u001b[39;00m:\n\u001b[0;32m-> 1511\u001b[0m     \u001b[38;5;28;01mreturn\u001b[39;00m \u001b[38;5;28mself\u001b[39m\u001b[38;5;241m.\u001b[39m_call_impl(\u001b[38;5;241m*\u001b[39margs, \u001b[38;5;241m*\u001b[39m\u001b[38;5;241m*\u001b[39mkwargs)\n",
      "File \u001b[0;32m~/miniconda3/envs/ncs_georgy/lib/python3.11/site-packages/torch/nn/modules/module.py:1520\u001b[0m, in \u001b[0;36mModule._call_impl\u001b[0;34m(self, *args, **kwargs)\u001b[0m\n\u001b[1;32m   1515\u001b[0m \u001b[38;5;66;03m# If we don't have any hooks, we want to skip the rest of the logic in\u001b[39;00m\n\u001b[1;32m   1516\u001b[0m \u001b[38;5;66;03m# this function, and just call forward.\u001b[39;00m\n\u001b[1;32m   1517\u001b[0m \u001b[38;5;28;01mif\u001b[39;00m \u001b[38;5;129;01mnot\u001b[39;00m (\u001b[38;5;28mself\u001b[39m\u001b[38;5;241m.\u001b[39m_backward_hooks \u001b[38;5;129;01mor\u001b[39;00m \u001b[38;5;28mself\u001b[39m\u001b[38;5;241m.\u001b[39m_backward_pre_hooks \u001b[38;5;129;01mor\u001b[39;00m \u001b[38;5;28mself\u001b[39m\u001b[38;5;241m.\u001b[39m_forward_hooks \u001b[38;5;129;01mor\u001b[39;00m \u001b[38;5;28mself\u001b[39m\u001b[38;5;241m.\u001b[39m_forward_pre_hooks\n\u001b[1;32m   1518\u001b[0m         \u001b[38;5;129;01mor\u001b[39;00m _global_backward_pre_hooks \u001b[38;5;129;01mor\u001b[39;00m _global_backward_hooks\n\u001b[1;32m   1519\u001b[0m         \u001b[38;5;129;01mor\u001b[39;00m _global_forward_hooks \u001b[38;5;129;01mor\u001b[39;00m _global_forward_pre_hooks):\n\u001b[0;32m-> 1520\u001b[0m     \u001b[38;5;28;01mreturn\u001b[39;00m forward_call(\u001b[38;5;241m*\u001b[39margs, \u001b[38;5;241m*\u001b[39m\u001b[38;5;241m*\u001b[39mkwargs)\n\u001b[1;32m   1522\u001b[0m \u001b[38;5;28;01mtry\u001b[39;00m:\n\u001b[1;32m   1523\u001b[0m     result \u001b[38;5;241m=\u001b[39m \u001b[38;5;28;01mNone\u001b[39;00m\n",
      "File \u001b[0;32m~/miniconda3/envs/ncs_georgy/lib/python3.11/site-packages/torch/nn/modules/linear.py:116\u001b[0m, in \u001b[0;36mLinear.forward\u001b[0;34m(self, input)\u001b[0m\n\u001b[1;32m    115\u001b[0m \u001b[38;5;28;01mdef\u001b[39;00m \u001b[38;5;21mforward\u001b[39m(\u001b[38;5;28mself\u001b[39m, \u001b[38;5;28minput\u001b[39m: Tensor) \u001b[38;5;241m-\u001b[39m\u001b[38;5;241m>\u001b[39m Tensor:\n\u001b[0;32m--> 116\u001b[0m     \u001b[38;5;28;01mreturn\u001b[39;00m F\u001b[38;5;241m.\u001b[39mlinear(\u001b[38;5;28minput\u001b[39m, \u001b[38;5;28mself\u001b[39m\u001b[38;5;241m.\u001b[39mweight, \u001b[38;5;28mself\u001b[39m\u001b[38;5;241m.\u001b[39mbias)\n",
      "\u001b[0;31mRuntimeError\u001b[0m: CUDA error: unspecified launch failure\nCUDA kernel errors might be asynchronously reported at some other API call, so the stacktrace below might be incorrect.\nFor debugging consider passing CUDA_LAUNCH_BLOCKING=1.\nCompile with `TORCH_USE_CUDA_DSA` to enable device-side assertions.\n"
     ]
    }
   ],
   "source": [
    "for i in range(5):\n",
    "    model = dpo_iteration(i, model, n_samples=50, batch_size=10, n_tries_to_rewrite=2)"
   ]
  },
  {
   "cell_type": "code",
   "execution_count": null,
   "id": "3c054fe9-39ee-4c1b-8867-c4f3cab9a2e7",
   "metadata": {},
   "outputs": [],
   "source": []
  },
  {
   "cell_type": "code",
   "execution_count": null,
   "id": "cf177eb7-a9eb-4407-823a-9bba4541cd1d",
   "metadata": {
    "jupyter": {
     "source_hidden": true
    }
   },
   "outputs": [],
   "source": []
  }
 ],
 "metadata": {
  "kernelspec": {
   "display_name": "ncs_georgy",
   "language": "python",
   "name": "ncs_georgy"
  },
  "language_info": {
   "codemirror_mode": {
    "name": "ipython",
    "version": 3
   },
   "file_extension": ".py",
   "mimetype": "text/x-python",
   "name": "python",
   "nbconvert_exporter": "python",
   "pygments_lexer": "ipython3",
   "version": "3.11.4"
  }
 },
 "nbformat": 4,
 "nbformat_minor": 5
}
