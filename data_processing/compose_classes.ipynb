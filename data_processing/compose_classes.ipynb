{
 "cells": [
  {
   "cell_type": "code",
   "execution_count": 1,
   "id": "6fe447ea-8fa8-46e7-a1fb-9c85a98a40ef",
   "metadata": {},
   "outputs": [],
   "source": [
    "import datasets\n",
    "from typing import List, Dict, Union, Literal, Optional\n",
    "from tqdm import tqdm"
   ]
  },
  {
   "cell_type": "code",
   "execution_count": 2,
   "id": "e1d48438-330d-488a-9f83-2c8090ce0be1",
   "metadata": {},
   "outputs": [
    {
     "data": {
      "application/vnd.jupyter.widget-view+json": {
       "model_id": "edac794f0c094adeab3e274353b86f72",
       "version_major": 2,
       "version_minor": 0
      },
      "text/plain": [
       "Resolving data files:   0%|          | 0/46 [00:00<?, ?it/s]"
      ]
     },
     "metadata": {},
     "output_type": "display_data"
    },
    {
     "data": {
      "application/vnd.jupyter.widget-view+json": {
       "model_id": "bfc30b82787f4a54ba53a936951b0e42",
       "version_major": 2,
       "version_minor": 0
      },
      "text/plain": [
       "Resolving data files:   0%|          | 0/44 [00:00<?, ?it/s]"
      ]
     },
     "metadata": {},
     "output_type": "display_data"
    },
    {
     "data": {
      "application/vnd.jupyter.widget-view+json": {
       "model_id": "97810595719e4813a5d7336eafcde293",
       "version_major": 2,
       "version_minor": 0
      },
      "text/plain": [
       "Resolving data files:   0%|          | 0/73 [00:00<?, ?it/s]"
      ]
     },
     "metadata": {},
     "output_type": "display_data"
    }
   ],
   "source": [
    "dataset = datasets.load_dataset(\"blindsubmissions/GH_text2code\", split=\"python_gh\")"
   ]
  },
  {
   "cell_type": "code",
   "execution_count": 3,
   "id": "6b1c6475-2603-4bf4-a44d-ee935400d719",
   "metadata": {},
   "outputs": [
    {
     "name": "stdout",
     "output_type": "stream",
     "text": [
      "async def async_setup_entry(hass, entry, async_add_entities):\n",
      "    \"\"\"Set up SimpliSafe locks based on a config entry.\"\"\"\n",
      "    simplisafe = hass.data[DOMAIN][DATA_CLIENT][entry.entry_id]\n",
      "    async_add_entities(\n",
      "        [\n",
      "            SimpliSafeLock(simplisafe, system, lock)\n",
      "            for system in simplisafe.systems.values()\n",
      "            for lock in system.locks.values()\n",
      "        ]\n",
      "    )\n"
     ]
    }
   ],
   "source": [
    "for item in dataset:\n",
    "    print(item['function'])\n",
    "    break"
   ]
  },
  {
   "cell_type": "code",
   "execution_count": 4,
   "id": "a015ddf9-c0e1-4000-a532-ff3cd339a656",
   "metadata": {},
   "outputs": [],
   "source": [
    "# # Задаем количество строк, которое хотим получить\n",
    "# n_rows = 2000\n",
    "\n",
    "# start_row = 0\n",
    "# end_row = 2000\n",
    "\n",
    "# # Создаем список для хранения строк\n",
    "# rows = []\n",
    "\n",
    "# for i, row in enumerate(dataset):\n",
    "#     if start_row <= i < end_row:\n",
    "#         rows.append(row)\n",
    "#     elif i >= end_row:\n",
    "#         break\n",
    "\n",
    "# # Преобразуем список строк в датасет Hugging Face\n",
    "# dataset_w_n_samples = datasets.Dataset.from_dict({k: [row[k] for row in rows] for k in rows[0]})"
   ]
  },
  {
   "cell_type": "code",
   "execution_count": 5,
   "id": "e635551e-0562-470d-a1c3-eb8486958483",
   "metadata": {},
   "outputs": [],
   "source": [
    "def format_class(class_name, methods):\n",
    "    class_definition = f\"class {class_name}:\\n\"\n",
    "    for method in methods:\n",
    "        # Split the method into lines and add the indentation\n",
    "        lines = method.split('\\n')\n",
    "        # Indent all lines except the first one with four spaces\n",
    "        indented_lines = ['    ' + line.replace(\"        \", \"    \") for line in lines]\n",
    "        # Join the lines and add them to the class definition\n",
    "        class_definition += '\\n'.join(indented_lines) + '\\n\\n'\n",
    "    return class_definition"
   ]
  },
  {
   "cell_type": "code",
   "execution_count": null,
   "id": "9de7a73d-72ff-4705-a4ba-e5de4950128e",
   "metadata": {},
   "outputs": [
    {
     "name": "stderr",
     "output_type": "stream",
     "text": [
      " 43%|████▎     | 6450145/15000002 [20:13<29:01, 4909.85it/s]  "
     ]
    }
   ],
   "source": [
    "from tqdm import tqdm\n",
    "\n",
    "def split_identifier(identifier: str) -> Union[str, None]:\n",
    "    splitted = identifier.split('.')\n",
    "    if len(splitted) > 1:\n",
    "        return splitted[0]\n",
    "    elif len(splitted) == 1:\n",
    "        return None\n",
    "\n",
    "def process_dataset(dataset: List[Dict[str, str]]) -> Dict[str, Dict[Literal[\"class\", \"func\"], List[str]]]:\n",
    "    res_dict: Dict[Literal[\"class\", \"func\"], Dict[str, List[str]]] = {\"class\": {}, \"func\": []}\n",
    "\n",
    "    for item in tqdm(dataset):\n",
    "        class_name = split_identifier(item['identifier'])\n",
    "        if class_name:\n",
    "            if class_name not in res_dict[\"class\"]:\n",
    "                res_dict[\"class\"][class_name] = [item[\"function\"]]\n",
    "            else:\n",
    "                res_dict[\"class\"][class_name].append(item[\"function\"])\n",
    "        else:\n",
    "            res_dict[\"func\"].append(item[\"function\"])\n",
    "\n",
    "    return res_dict\n",
    "\n",
    "def format_classes(classes: Dict[str, List[str]]) -> List[str]:\n",
    "    formatted_classes = []\n",
    "    for class_name, functions in classes.items():\n",
    "        class_definition = format_class(class_name, functions)\n",
    "        formatted_classes.append(class_definition)\n",
    "    return formatted_classes\n",
    "\n",
    "# Использование функций\n",
    "res_dict = process_dataset(dataset)\n",
    "res_dict[\"class\"] = format_classes(res_dict[\"class\"])"
   ]
  },
  {
   "cell_type": "code",
   "execution_count": 7,
   "id": "62c2d924-79b5-43e7-8c4e-58cd6fe28196",
   "metadata": {},
   "outputs": [
    {
     "name": "stdout",
     "output_type": "stream",
     "text": [
      "class SimpliSafeLock:\n",
      "    def __init__(self, simplisafe, system, lock):\n",
      "        \"\"\"Initialize.\"\"\"\n",
      "        super().__init__(simplisafe, system, lock.name, serial=lock.serial)\n",
      "        self._lock = lock\n",
      "        self._is_locked = None\n",
      "    \n",
      "        for event_type in (EVENT_LOCK_LOCKED, EVENT_LOCK_UNLOCKED):\n",
      "            self.websocket_events_to_listen_for.append(event_type)\n",
      "\n",
      "    def is_locked(self):\n",
      "        \"\"\"Return true if the lock is locked.\"\"\"\n",
      "        return self._is_locked\n",
      "\n",
      "    async def async_lock(self, **kwargs):\n",
      "        \"\"\"Lock the lock.\"\"\"\n",
      "        try:\n",
      "            await self._lock.lock()\n",
      "        except SimplipyError as err:\n",
      "            LOGGER.error('Error while locking \"%s\": %s', self._lock.name, err)\n",
      "            return\n",
      "\n",
      "    async def async_unlock(self, **kwargs):\n",
      "        \"\"\"Unlock the lock.\"\"\"\n",
      "        try:\n",
      "            await self._lock.unlock()\n",
      "        except SimplipyError as err:\n",
      "            LOGGER.error('Error while unlocking \"%s\": %s', self._lock.name, err)\n",
      "            return\n",
      "\n",
      "    def async_update_from_rest_api(self):\n",
      "        \"\"\"Update the entity with the provided REST API data.\"\"\"\n",
      "        self._attrs.update(\n",
      "            {\n",
      "            ATTR_LOCK_LOW_BATTERY: self._lock.lock_low_battery,\n",
      "            ATTR_JAMMED: self._lock.state == LockStates.jammed,\n",
      "            ATTR_PIN_PAD_LOW_BATTERY: self._lock.pin_pad_low_battery,\n",
      "            }\n",
      "        )\n",
      "    \n",
      "        self._is_locked = self._lock.state == LockStates.locked\n",
      "\n",
      "    def async_update_from_websocket_event(self, event):\n",
      "        \"\"\"Update the entity with the provided websocket event data.\"\"\"\n",
      "        if event.event_type == EVENT_LOCK_LOCKED:\n",
      "            self._is_locked = True\n",
      "        else:\n",
      "            self._is_locked = False\n",
      "\n",
      "\n"
     ]
    }
   ],
   "source": [
    "print(res_dict[\"class\"][0])"
   ]
  },
  {
   "cell_type": "code",
   "execution_count": null,
   "id": "b6030946-78c4-4eb0-b66c-7c3971e34c8d",
   "metadata": {},
   "outputs": [],
   "source": []
  }
 ],
 "metadata": {
  "kernelspec": {
   "display_name": "ncs_georgy",
   "language": "python",
   "name": "ncs_georgy"
  },
  "language_info": {
   "codemirror_mode": {
    "name": "ipython",
    "version": 3
   },
   "file_extension": ".py",
   "mimetype": "text/x-python",
   "name": "python",
   "nbconvert_exporter": "python",
   "pygments_lexer": "ipython3",
   "version": "3.11.4"
  }
 },
 "nbformat": 4,
 "nbformat_minor": 5
}
