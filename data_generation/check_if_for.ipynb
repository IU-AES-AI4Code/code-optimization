{
 "cells": [
  {
   "cell_type": "code",
   "execution_count": 1,
   "id": "6bb98c24-1ed8-4810-b90b-3ccd7694e2c0",
   "metadata": {},
   "outputs": [],
   "source": [
    "with open('items.txt') as f:\n",
    "    items = [line.strip() for line in f.readlines()] "
   ]
  },
  {
   "cell_type": "code",
   "execution_count": 4,
   "id": "7ff81cfe-30d5-41b8-8bdf-19b246dd7e23",
   "metadata": {},
   "outputs": [
    {
     "name": "stderr",
     "output_type": "stream",
     "text": [
      "100%|██████████| 91/91 [00:00<00:00, 18805.76it/s]"
     ]
    },
    {
     "name": "stdout",
     "output_type": "stream",
     "text": [
      "Matrix Inversion\n",
      "AES\n",
      "Tokenization\n",
      "Stemming\n",
      "Part-of-Speech Tagging\n",
      "Sentiment Analysis\n",
      "regular expressions\n"
     ]
    },
    {
     "name": "stderr",
     "output_type": "stream",
     "text": [
      "\n"
     ]
    }
   ],
   "source": [
    "from tqdm import tqdm\n",
    "\n",
    "for item in tqdm(items):\n",
    "    try:\n",
    "        with open(f\"generated_code/{item}.txt\") as f:\n",
    "            content = f.read()\n",
    "    except:\n",
    "        pass\n",
    "    if not 'if' in content and not 'for' in content and not 'while' in content:\n",
    "        print(item)"
   ]
  },
  {
   "cell_type": "code",
   "execution_count": null,
   "id": "9272f4fb-b0fb-45a0-9210-e948dceff9d8",
   "metadata": {},
   "outputs": [],
   "source": []
  }
 ],
 "metadata": {
  "kernelspec": {
   "display_name": "ncs_georgy",
   "language": "python",
   "name": "ncs_georgy"
  },
  "language_info": {
   "codemirror_mode": {
    "name": "ipython",
    "version": 3
   },
   "file_extension": ".py",
   "mimetype": "text/x-python",
   "name": "python",
   "nbconvert_exporter": "python",
   "pygments_lexer": "ipython3",
   "version": "3.11.4"
  }
 },
 "nbformat": 4,
 "nbformat_minor": 5
}
