{
 "cells": [
  {
   "cell_type": "code",
   "execution_count": 4,
   "id": "e8881396-db99-40f6-9f43-03ef5b0f0f54",
   "metadata": {},
   "outputs": [
    {
     "data": {
      "application/vnd.jupyter.widget-view+json": {
       "model_id": "25632c4e9ab34c28ae8a93960b36bc0a",
       "version_major": 2,
       "version_minor": 0
      },
      "text/plain": [
       "Loading checkpoint shards:   0%|          | 0/2 [00:00<?, ?it/s]"
      ]
     },
     "metadata": {},
     "output_type": "display_data"
    },
    {
     "name": "stderr",
     "output_type": "stream",
     "text": [
      "Special tokens have been added in the vocabulary, make sure the associated word embeddings are fine-tuned or trained.\n"
     ]
    }
   ],
   "source": [
    "from transformers import pipeline\n",
    "import torch\n",
    "\n",
    "# Create a text generation pipeline\n",
    "text_generator = pipeline(\n",
    "    \"text-generation\",\n",
    "    model=\"deepseek-ai/deepseek-coder-7b-instruct\",\n",
    "    device_map='cuda:3',\n",
    "    # torch_dtype=torch.bfloat16\n",
    ")"
   ]
  },
  {
   "cell_type": "code",
   "execution_count": 5,
   "id": "75028d8f-86a7-4717-b38b-386d2574c6eb",
   "metadata": {},
   "outputs": [],
   "source": [
    "def generate(instruction):\n",
    "    prompt = text_generator.tokenizer.apply_chat_template(\n",
    "        [{ 'role': 'user', 'content': instruction}],\n",
    "        add_generation_prompt=True,\n",
    "        tokenize=False\n",
    "    )\n",
    "    \n",
    "    generated_text = text_generator(\n",
    "        prompt,\n",
    "        max_new_tokens=2024,\n",
    "        return_full_text=False\n",
    "    )\n",
    "    \n",
    "    return generated_text[0]['generated_text']"
   ]
  },
  {
   "cell_type": "code",
   "execution_count": 19,
   "id": "6a4a5493-04bd-4079-8bee-d64cd226d237",
   "metadata": {},
   "outputs": [],
   "source": [
    "with open('mi_desc.txt') as f:\n",
    "    mi_description = f.read()\n",
    "\n",
    "def generate_dpo_sample():\n",
    "    instruction = \"Imagine that you are a programmer that uses DeepSeekCoder to generate code for a simple algorithmic task. \\\n",
    "    Provide an arbitrary example of such task and provide a query that you would give to DeepSeekCoder according to the example below.\\n\\n\\\n",
    "    Here is an example of such a query: 'Write a Python function that implements <task> without any tests and usage examples.'\\n\\n\\\n",
    "    Then, imagine that you are DeepSeekCoder and write two implementations of the task in Python: \\\n",
    "    one implemenation has the highest maintainability index and another implementation has the lowest maintainability index. \\\n",
    "    Provide your response in the following order: \\\n",
    "    Task formulation, Highest maintainability index implementation, Lowest maintainability index implementation.\"\n",
    "    return generate(instruction)"
   ]
  },
  {
   "cell_type": "code",
   "execution_count": 22,
   "id": "67a2bfa0-af4c-4c44-bb2d-3ad89df51b04",
   "metadata": {},
   "outputs": [
    {
     "name": "stdout",
     "output_type": "stream",
     "text": [
      "Task formulation:\n",
      "\n",
      "Write a Python function that implements a Caesar cipher encryption algorithm. The Caesar cipher is a type of substitution cipher in which each character in the plaintext is'shifted' a certain number of places down the alphabet. For example, with a shift of 1, A would be replaced by B, B becomes C, and so on. The function should take two inputs: the text to be encrypted and the shift amount.\n",
      "\n",
      "Highest maintainability index implementation:\n",
      "\n",
      "```python\n",
      "def caesar_encrypt(text, shift):\n",
      "    encrypted_text = \"\"\n",
      "    for char in text:\n",
      "        if char.isalpha():\n",
      "            ascii_offset = 65 if char.isupper() else 97\n",
      "            encrypted_text += chr((ord(char) - ascii_offset + shift) % 26 + ascii_offset)\n",
      "        else:\n",
      "            encrypted_text += char\n",
      "    return encrypted_text\n",
      "```\n",
      "\n",
      "Lowest maintainability index implementation:\n",
      "\n",
      "```python\n",
      "def caesar_encrypt(text, shift):\n",
      "    result = \"\"\n",
      "    for i in range(len(text)):\n",
      "        char = text[i]\n",
      "        if char.isalpha():\n",
      "            ascii_offset = 65 if char.isupper() else 97\n",
      "            result += chr((ord(char) - ascii_offset + shift) % 26 + ascii_offset)\n",
      "        else:\n",
      "            result += char\n",
      "    return result\n",
      "```\n",
      "\n",
      "In the highest maintainability index implementation, the function is broken down into smaller, more manageable functions. This makes it easier to understand and maintain. The logic for shifting the characters is encapsulated in a separate function, which makes it easier to test and reuse.\n",
      "\n",
      "In the lowest maintainability index implementation, the function is written in a single, monolithic block. This makes it harder to understand and maintain. The logic for shifting the characters is intertwined with the rest of the code, making it harder to test and reuse.\n",
      "\n"
     ]
    }
   ],
   "source": [
    "print(generate_dpo_sample())"
   ]
  },
  {
   "cell_type": "code",
   "execution_count": null,
   "id": "4db564a0-362d-41a6-b0fd-3817d35c608c",
   "metadata": {},
   "outputs": [],
   "source": []
  }
 ],
 "metadata": {
  "kernelspec": {
   "display_name": "ncs_georgy",
   "language": "python",
   "name": "ncs_georgy"
  },
  "language_info": {
   "codemirror_mode": {
    "name": "ipython",
    "version": 3
   },
   "file_extension": ".py",
   "mimetype": "text/x-python",
   "name": "python",
   "nbconvert_exporter": "python",
   "pygments_lexer": "ipython3",
   "version": "3.11.4"
  }
 },
 "nbformat": 4,
 "nbformat_minor": 5
}
