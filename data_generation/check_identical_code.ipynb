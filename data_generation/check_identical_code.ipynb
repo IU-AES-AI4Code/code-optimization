{
 "cells": [
  {
   "cell_type": "code",
   "execution_count": 1,
   "id": "98ae1697-143d-44da-8c6d-a499c2bc5396",
   "metadata": {},
   "outputs": [],
   "source": [
    "with open('items.txt') as f:\n",
    "    items = [line.strip() for line in f.readlines()] "
   ]
  },
  {
   "cell_type": "code",
   "execution_count": 2,
   "id": "0f113f1f-b12f-403f-bec4-b3c70c13a926",
   "metadata": {},
   "outputs": [
    {
     "name": "stdout",
     "output_type": "stream",
     "text": [
      "0.14285714285714285\n"
     ]
    }
   ],
   "source": [
    "count = 0\n",
    "\n",
    "for item in items:\n",
    "    with open(f'generated_code_various_quality/junior/{item}.txt') as f:\n",
    "        junior = f.read()\n",
    "    with open(f'generated_code_various_quality/middle/{item}.txt') as f:\n",
    "        middle = f.read()\n",
    "    with open(f'generated_code_various_quality/senior/{item}.txt') as f:\n",
    "        senior = f.read()\n",
    "\n",
    "    if junior == middle and middle == senior:\n",
    "        count += 1\n",
    "\n",
    "print(count/len(items))"
   ]
  },
  {
   "cell_type": "code",
   "execution_count": 3,
   "id": "d7ca6f10-38de-41fd-b4a6-6db6d13bbe32",
   "metadata": {},
   "outputs": [
    {
     "data": {
      "text/plain": [
       "13"
      ]
     },
     "execution_count": 3,
     "metadata": {},
     "output_type": "execute_result"
    }
   ],
   "source": [
    "count"
   ]
  },
  {
   "cell_type": "code",
   "execution_count": 5,
   "id": "1bf53fb1-85f8-4a77-a25e-c7f1fdce24d6",
   "metadata": {},
   "outputs": [
    {
     "data": {
      "text/plain": [
       "91"
      ]
     },
     "execution_count": 5,
     "metadata": {},
     "output_type": "execute_result"
    }
   ],
   "source": [
    "len(items)"
   ]
  },
  {
   "cell_type": "code",
   "execution_count": null,
   "id": "f7700372-df1d-421a-a3b4-4e6d79ceb0ba",
   "metadata": {},
   "outputs": [],
   "source": []
  }
 ],
 "metadata": {
  "kernelspec": {
   "display_name": "ncs_georgy",
   "language": "python",
   "name": "ncs_georgy"
  },
  "language_info": {
   "codemirror_mode": {
    "name": "ipython",
    "version": 3
   },
   "file_extension": ".py",
   "mimetype": "text/x-python",
   "name": "python",
   "nbconvert_exporter": "python",
   "pygments_lexer": "ipython3",
   "version": "3.11.4"
  }
 },
 "nbformat": 4,
 "nbformat_minor": 5
}
