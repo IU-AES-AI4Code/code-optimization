{
 "cells": [
  {
   "cell_type": "code",
   "execution_count": 1,
   "id": "47e158bf-b91f-44d9-8046-e23bb203b43b",
   "metadata": {},
   "outputs": [
    {
     "data": {
      "application/vnd.jupyter.widget-view+json": {
       "model_id": "dfbbc4cbc3f145dd8df29f0b0e62a24d",
       "version_major": 2,
       "version_minor": 0
      },
      "text/plain": [
       "Loading checkpoint shards:   0%|          | 0/2 [00:00<?, ?it/s]"
      ]
     },
     "metadata": {},
     "output_type": "display_data"
    },
    {
     "name": "stderr",
     "output_type": "stream",
     "text": [
      "Special tokens have been added in the vocabulary, make sure the associated word embeddings are fine-tuned or trained.\n"
     ]
    }
   ],
   "source": [
    "from transformers import pipeline\n",
    "import torch\n",
    "\n",
    "# Create a text generation pipeline\n",
    "text_generator = pipeline(\n",
    "    \"text-generation\",\n",
    "    model=\"deepseek-ai/deepseek-coder-7b-instruct\",\n",
    "    device_map='cuda:3',\n",
    "    # torch_dtype=torch.bfloat16\n",
    ")"
   ]
  },
  {
   "cell_type": "code",
   "execution_count": 7,
   "id": "ce07f949-29e5-49cb-9468-52196b43ad76",
   "metadata": {},
   "outputs": [],
   "source": [
    "def generate(instruction):\n",
    "    prompt = text_generator.tokenizer.apply_chat_template(\n",
    "        [{ 'role': 'user', 'content': instruction}],\n",
    "        add_generation_prompt=True,\n",
    "        tokenize=False\n",
    "    )\n",
    "    \n",
    "    generated_text = text_generator(\n",
    "        prompt,\n",
    "        max_new_tokens=2024,\n",
    "        return_full_text=False\n",
    "    )\n",
    "    \n",
    "    return generated_text[0]['generated_text']"
   ]
  },
  {
   "cell_type": "code",
   "execution_count": 8,
   "id": "676adc8c-bc17-4703-bbec-568fc70235a1",
   "metadata": {},
   "outputs": [],
   "source": [
    "with open('items.txt') as f:\n",
    "    items = [line.strip() for line in f.readlines()] "
   ]
  },
  {
   "cell_type": "markdown",
   "id": "c929dffa-2d61-4252-a25f-74ef4a61c0c1",
   "metadata": {},
   "source": [
    "# Generate code"
   ]
  },
  {
   "cell_type": "code",
   "execution_count": 43,
   "id": "4f1cc6ce-a44b-45a6-9cfc-461e62d942c7",
   "metadata": {},
   "outputs": [],
   "source": [
    "# def compose_prompt(instruction):\n",
    "#     system_prompt = \"You are an AI programmer that provides Python code that satisfies the given instruction.\\\n",
    "#     The response should be only Python function without any tests. Here is an example:\\\n",
    "#     ### Instruction:\\nWrite a Python function that adds two numbers\\n### Response:\\ndef add_two_numbers(num1, num2):\\n\\treturn num1 + num2\"\n",
    "#     return f'<｜begin▁of▁sentence｜>{system_prompt}### Instruction:\\n{instruction}\\n### Response:\\n'"
   ]
  },
  {
   "cell_type": "markdown",
   "id": "f1cdce8e-da7b-4657-9b5d-c90615b19175",
   "metadata": {},
   "source": [
    "## Single quality"
   ]
  },
  {
   "cell_type": "code",
   "execution_count": 57,
   "id": "f2d021f3-0c48-49cf-b533-ba88463b5e15",
   "metadata": {},
   "outputs": [
    {
     "name": "stderr",
     "output_type": "stream",
     "text": [
      "100%|██████████| 91/91 [14:54<00:00,  9.83s/it]\n"
     ]
    }
   ],
   "source": [
    "from tqdm import tqdm\n",
    "\n",
    "for item in tqdm(items):\n",
    "    instruction = f\"Write a Python function that implements {item} without any tests and usage examples.\"\n",
    "    response = generate(instruction)\n",
    "    with open(f'generated_code_raw/{item}.txt', 'w') as f:\n",
    "        f.write(response)"
   ]
  },
  {
   "cell_type": "markdown",
   "id": "584f44cc-f2dc-49e9-aa17-8351866d1d9b",
   "metadata": {},
   "source": [
    "## Multiple Quality"
   ]
  },
  {
   "cell_type": "code",
   "execution_count": 11,
   "id": "e258e689-a082-44f6-9c75-18973217c4a4",
   "metadata": {},
   "outputs": [
    {
     "name": "stderr",
     "output_type": "stream",
     "text": [
      "100%|██████████| 91/91 [35:43<00:00, 23.56s/it]\n"
     ]
    }
   ],
   "source": [
    "from tqdm import tqdm\n",
    "\n",
    "for item in tqdm(items):\n",
    "    with open(f\"generated_code_raw/{item}.txt\") as f:\n",
    "        info = f.read()\n",
    "    instruction = f\"{info}\\n\\nProvide three different implementations of the {item}: junior developer implementation, middle developer implementation, and senior developer implementation.\"\n",
    "    response = generate(instruction)\n",
    "    with open(f'generated_code_raw_various_quality/{item}.txt', 'w') as f:\n",
    "        f.write(response)"
   ]
  },
  {
   "cell_type": "markdown",
   "id": "6d034e59-91f9-4d84-a4d1-9a72f0eed54c",
   "metadata": {},
   "source": [
    "# Generate tests"
   ]
  },
  {
   "cell_type": "code",
   "execution_count": 12,
   "id": "96dd5955-1b83-4417-85ae-0a64004527cf",
   "metadata": {
    "scrolled": true
   },
   "outputs": [
    {
     "name": "stderr",
     "output_type": "stream",
     "text": [
      "100%|██████████| 91/91 [24:24<00:00, 16.09s/it]\n"
     ]
    }
   ],
   "source": [
    "from tqdm import tqdm\n",
    "\n",
    "for item in tqdm(items):\n",
    "    with open(f'generated_code_raw/{item}.txt') as f:\n",
    "        info = f.read()\n",
    "    instruction = f\"{info}\\n\\nPlease, write Python code that does a comprehensive testing of the Python function.\"\n",
    "    response = generate(instruction)\n",
    "    with open(f'generated_tests_raw/{item}.txt', 'w') as f:\n",
    "        f.write(response)"
   ]
  },
  {
   "cell_type": "code",
   "execution_count": null,
   "id": "89f77e14-cc2d-4e7d-a996-8047756dac86",
   "metadata": {},
   "outputs": [],
   "source": []
  }
 ],
 "metadata": {
  "kernelspec": {
   "display_name": "ncs_georgy",
   "language": "python",
   "name": "ncs_georgy"
  },
  "language_info": {
   "codemirror_mode": {
    "name": "ipython",
    "version": 3
   },
   "file_extension": ".py",
   "mimetype": "text/x-python",
   "name": "python",
   "nbconvert_exporter": "python",
   "pygments_lexer": "ipython3",
   "version": "3.11.4"
  }
 },
 "nbformat": 4,
 "nbformat_minor": 5
}
